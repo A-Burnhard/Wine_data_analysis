{
  "nbformat": 4,
  "nbformat_minor": 0,
  "metadata": {
    "colab": {
      "provenance": [],
      "include_colab_link": true
    },
    "kernelspec": {
      "name": "python3",
      "display_name": "Python 3"
    },
    "language_info": {
      "name": "python"
    }
  },
  "cells": [
    {
      "cell_type": "markdown",
      "metadata": {
        "id": "view-in-github",
        "colab_type": "text"
      },
      "source": [
        "<a href=\"https://colab.research.google.com/github/A-Burnhard/Wine_data_analysis/blob/main/wine_data.ipynb\" target=\"_parent\"><img src=\"https://colab.research.google.com/assets/colab-badge.svg\" alt=\"Open In Colab\"/></a>"
      ]
    },
    {
      "cell_type": "code",
      "execution_count": 19,
      "metadata": {
        "id": "qqKIMrkxS-TA"
      },
      "outputs": [],
      "source": [
        "import pandas as pd\n",
        "from sklearn.model_selection import train_test_split\n",
        "from sklearn.tree import DecisionTreeClassifier\n"
      ]
    },
    {
      "cell_type": "code",
      "source": [
        "#Loading or importing  wine dataset to notebook\n",
        "cols = [\"class\", \"Alcohol\", \"Malicacid\", \"Ash\", \"Alcalinity_of_ash\", \"Magnesium\", \"Total_phenols\", \"Flavanoids\", \"Nonflavanoid_phenols\", \"Proanthocyanins\", \"Color_intensity\", \"Hue\", \"0D280_0D315_of_diluted_wines\", \"Proline\" ]\n",
        "wine_data = pd.read_csv(\"wine.data\", names = cols)\n",
        "wine_data.head()"
      ],
      "metadata": {
        "id": "zLz2i6GdU1mU"
      },
      "execution_count": null,
      "outputs": []
    },
    {
      "cell_type": "code",
      "source": [
        "#split the data into training and validation sets\n",
        "wine_features = wine_data.drop(\"class\", axis=1)\n",
        "wine_labels = wine_data[\"class\"]\n",
        "wine_train_features, wine_val_features, wine_train_labels, wine_val_labels = train_test_split(wine_features, wine_labels, test_size =0.2, random_state=42)\n",
        "\n"
      ],
      "metadata": {
        "id": "am15AdECfY6j"
      },
      "execution_count": 3,
      "outputs": []
    },
    {
      "cell_type": "markdown",
      "source": [
        "**Constructing decision trees**"
      ],
      "metadata": {
        "id": "jIAOKdip8PZP"
      }
    },
    {
      "cell_type": "code",
      "source": [
        "from sklearn.metrics import classification_report\n",
        "# Define the number of trees to generate from each partition\n",
        "num_trees = 3\n",
        "\n",
        "# Initialize a list to store the decision trees and classification reports\n",
        "trees = []\n",
        "\n",
        "# Generate multiple decision trees\n",
        "for i in range(num_trees):\n",
        "    # Split the data into different partitions for each tree\n",
        "    wine_train_features, wine_val_features, wine_train_labels, wine_val_labels = train_test_split(wine_features, wine_labels, test_size=0.2, random_state=i)\n",
        "\n",
        "    # Initialize a new decision tree\n",
        "    wine_tree = DecisionTreeClassifier(criterion=\"gini\", max_depth=3, random_state=42)\n",
        "\n",
        "    # Train the decision tree\n",
        "    wine_tree.fit(wine_train_features, wine_train_labels)\n",
        "\n",
        "    # Predict labels for validation set\n",
        "    wine_val_predictions = wine_tree.predict(wine_val_features)\n",
        "\n",
        "    # Evaluate classification performance\n",
        "    wine_classification_report = classification_report(wine_val_labels, wine_val_predictions)\n",
        "\n",
        "    # Store the decision tree and classification report\n",
        "    trees.append((wine_tree, wine_classification_report))\n",
        "\n",
        "# Print the classification reports for all the decision trees\n",
        "for i, (tree, classification_report) in enumerate(trees):\n",
        "    print(f\"Decision Tree {i+1} Classification Report:\")\n",
        "    print(classification_report)\n",
        "    print()"
      ],
      "metadata": {
        "id": "8m3dHmc73F-5",
        "outputId": "bd6fe485-ab3b-4bcd-95b7-3113e94317d8",
        "colab": {
          "base_uri": "https://localhost:8080/"
        }
      },
      "execution_count": 20,
      "outputs": [
        {
          "output_type": "stream",
          "name": "stdout",
          "text": [
            "Decision Tree 1 Classification Report:\n",
            "              precision    recall  f1-score   support\n",
            "\n",
            "           1       0.93      1.00      0.97        14\n",
            "           2       1.00      0.94      0.97        16\n",
            "           3       1.00      1.00      1.00         6\n",
            "\n",
            "    accuracy                           0.97        36\n",
            "   macro avg       0.98      0.98      0.98        36\n",
            "weighted avg       0.97      0.97      0.97        36\n",
            "\n",
            "\n",
            "Decision Tree 2 Classification Report:\n",
            "              precision    recall  f1-score   support\n",
            "\n",
            "           1       0.93      0.93      0.93        14\n",
            "           2       0.75      0.92      0.83        13\n",
            "           3       1.00      0.67      0.80         9\n",
            "\n",
            "    accuracy                           0.86        36\n",
            "   macro avg       0.89      0.84      0.85        36\n",
            "weighted avg       0.88      0.86      0.86        36\n",
            "\n",
            "\n",
            "Decision Tree 3 Classification Report:\n",
            "              precision    recall  f1-score   support\n",
            "\n",
            "           1       1.00      0.89      0.94        18\n",
            "           2       0.82      1.00      0.90         9\n",
            "           3       1.00      1.00      1.00         9\n",
            "\n",
            "    accuracy                           0.94        36\n",
            "   macro avg       0.94      0.96      0.95        36\n",
            "weighted avg       0.95      0.94      0.95        36\n",
            "\n",
            "\n"
          ]
        }
      ]
    },
    {
      "cell_type": "markdown",
      "source": [
        "**Visualizing classification report**"
      ],
      "metadata": {
        "id": "WoMdp6Ng70vR"
      }
    },
    {
      "cell_type": "code",
      "source": [
        "# Visualizing Classification report for the three trees\n",
        "import matplotlib.pyplot as plt\n",
        "\n",
        "# Initialize empty lists for precision, recall, and F1-score\n",
        "precision = []\n",
        "recall = []\n",
        "f1_score = []\n",
        "\n",
        "# Extract precision, recall, and F1-score from the classification reports\n",
        "for _, wine_classification_report in trees:\n",
        "    report_lines = wine_classification_report.split(\"\\n\")\n",
        "    class_1_values = report_lines[2].split()[1:]\n",
        "    class_2_values = report_lines[3].split()[1:]\n",
        "    class_3_values = report_lines[4].split()[1:]\n",
        "    precision.append([float(class_1_values[0]), float(class_2_values[0]), float(class_3_values[0])])\n",
        "    recall.append([float(class_1_values[1]), float(class_2_values[1]), float(class_3_values[1])])\n",
        "    f1_score.append([float(class_1_values[2]), float(class_2_values[2]), float(class_3_values[2])])\n",
        "\n",
        "# Create a bar plot for precision\n",
        "plt.figure(figsize=(10, 5))\n",
        "bar_width = 0.25\n",
        "index = [1, 2, 3]\n",
        "labels = ['Class 1', 'Class 2', 'Class 3']\n",
        "\n",
        "for i in range(num_trees):\n",
        "    plt.bar([x + i * bar_width for x in index], precision[i], width=bar_width, label=f\"Tree {i+1}\")\n",
        "\n",
        "plt.xlabel('Classes')\n",
        "plt.ylabel('Precision')\n",
        "plt.title('Precision for Decision Trees')\n",
        "plt.xticks([x + bar_width for x in index], labels)\n",
        "plt.legend()\n",
        "plt.show()\n",
        "\n",
        "# Create a bar plot for recall\n",
        "plt.figure(figsize=(10, 5))\n",
        "\n",
        "for i in range(num_trees):\n",
        "    plt.bar([x + i * bar_width for x in index], recall[i], width=bar_width, label=f\"Tree {i+1}\")\n",
        "\n",
        "plt.xlabel('Classes')\n",
        "plt.ylabel('Recall')\n",
        "plt.title('Recall for Decision Trees')\n",
        "plt.xticks([x + bar_width for x in index], labels)\n",
        "plt.legend()\n",
        "plt.show()\n",
        "\n",
        "# Create a bar plot for F1-score\n",
        "plt.figure(figsize=(10, 5))\n",
        "\n",
        "for i in range(num_trees):\n",
        "    plt.bar([x + i * bar_width for x in index], f1_score[i], width=bar_width, label=f\"Tree {i+1}\")\n",
        "\n",
        "plt.xlabel('Classes')\n",
        "plt.ylabel('F1-Score')\n",
        "plt.title('F1-Score for Decision Trees')\n",
        "plt.xticks([x + bar_width for x in index], labels)\n",
        "plt.legend()\n",
        "plt.show()\n"
      ],
      "metadata": {
        "id": "C1wIcEMJ5MmP"
      },
      "execution_count": null,
      "outputs": []
    },
    {
      "cell_type": "markdown",
      "source": [
        "**Determining confused class pairs**"
      ],
      "metadata": {
        "id": "dpf-VBc08jeJ"
      }
    },
    {
      "cell_type": "code",
      "source": [
        "#determine confused class pairs\n",
        "wine_confusion_matrix  = pd.crosstab(wine_val_labels, wine_val_predictions)\n",
        "print(\"Wine Confusion Matrix:\")\n",
        "print(wine_confusion_matrix)"
      ],
      "metadata": {
        "id": "wSzpK2jcmH9M",
        "outputId": "4f806098-1e49-4fea-e892-4b0403517737",
        "colab": {
          "base_uri": "https://localhost:8080/"
        }
      },
      "execution_count": 6,
      "outputs": [
        {
          "output_type": "stream",
          "name": "stdout",
          "text": [
            "Wine Confusion Matrix:\n",
            "col_0   1  2  3\n",
            "class          \n",
            "1      16  2  0\n",
            "2       0  9  0\n",
            "3       0  0  9\n"
          ]
        }
      ]
    },
    {
      "cell_type": "markdown",
      "source": [
        "**Visualizing** **Confusion Matrix**"
      ],
      "metadata": {
        "id": "CXk-et6PDMWj"
      }
    },
    {
      "cell_type": "code",
      "source": [
        "import seaborn as sns\n",
        "import matplotlib.pyplot as plt\n",
        "\n",
        "# Create a heatmap of the confusion matrix\n",
        "plt.figure(figsize=(8, 6))\n",
        "sns.heatmap(wine_confusion_matrix, annot=True, fmt='d', cmap='Blues')\n",
        "plt.xlabel('Predicted Class')\n",
        "plt.ylabel('True Class')\n",
        "plt.title('Wine Confusion Matrix')\n",
        "plt.show()\n"
      ],
      "metadata": {
        "id": "b93XzZagDd69"
      },
      "execution_count": null,
      "outputs": []
    },
    {
      "cell_type": "code",
      "source": [
        "#selecting a confused pair and identifying the corresponding leaf nodes\n",
        "confused_classes = [(1,2)]\n",
        "for class_pair in confused_classes:\n",
        "  class1, class2 = class_pair\n",
        "  misclassified_samples = wine_val_features[(wine_val_labels == class1) & (wine_val_predictions == class2)]\n",
        "  leaf_nodes = wine_tree.apply(misclassified_samples)\n",
        "  print(f\"Leaf nodes corresponding to misclassification between class {class1} and class {class2}:\")\n",
        "  #print leaf nodes\n",
        "  print(leaf_nodes)"
      ],
      "metadata": {
        "id": "5DjxdYoWmuZX"
      },
      "execution_count": null,
      "outputs": []
    },
    {
      "cell_type": "code",
      "source": [
        "# Compare decision trees with different attribute subsets\n",
        "attribute_subsets = [\n",
        "    [\"Alcohol\", \"Malicacid\", \"Ash\", \"Alcalinity_of_ash\", \"Magnesium\"],  # Subset 1\n",
        "    [\"Total_phenols\", \"Flavanoids\", \"Nonflavanoid_phenols\", \"Proanthocyanins\"],  # Subset 2\n",
        "    [\"Color_intensity\", \"Hue\", \"0D280_0D315_of_diluted_wines\", \"Proline\"]  # Subset 3\n",
        "]\n",
        "\n",
        "original_tree = DecisionTreeClassifier(criterion=\"gini\", max_depth=None, random_state=42)\n",
        "original_tree.fit(wine_train_features, wine_train_labels)\n",
        "original_val_predictions = original_tree.predict(wine_val_features)\n",
        "original_classification_report = classification_report(wine_val_labels, original_val_predictions)\n",
        "print(\"Original Decision Tree Classification Report:\")\n",
        "print(original_classification_report)\n",
        "\n",
        "for subset in attribute_subsets:\n",
        "    subset_train_features = wine_train_features[subset]\n",
        "    subset_val_features = wine_val_features[subset]\n",
        "\n",
        "    subset_tree = DecisionTreeClassifier(criterion=\"gini\", max_depth=None, random_state=42)\n",
        "    subset_tree.fit(subset_train_features, wine_train_labels)\n",
        "    subset_val_predictions = subset_tree.predict(subset_val_features)\n",
        "    subset_classification_report = classification_report(wine_val_labels, subset_val_predictions)\n",
        "\n",
        "    print(f\"Subset: {subset}\")\n",
        "    print(f\"Subset Decision Tree Classification Report:\")\n",
        "    print(subset_classification_report)"
      ],
      "metadata": {
        "id": "quZyksSuoGRS"
      },
      "execution_count": null,
      "outputs": []
    }
  ]
}
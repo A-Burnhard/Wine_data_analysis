{
  "nbformat": 4,
  "nbformat_minor": 0,
  "metadata": {
    "colab": {
      "provenance": [],
      "include_colab_link": true
    },
    "kernelspec": {
      "name": "python3",
      "display_name": "Python 3"
    },
    "language_info": {
      "name": "python"
    }
  },
  "cells": [
    {
      "cell_type": "markdown",
      "metadata": {
        "id": "view-in-github",
        "colab_type": "text"
      },
      "source": [
        "<a href=\"https://colab.research.google.com/github/A-Burnhard/Wine_data_analysis/blob/main/wine_data.ipynb\" target=\"_parent\"><img src=\"https://colab.research.google.com/assets/colab-badge.svg\" alt=\"Open In Colab\"/></a>"
      ]
    },
    {
      "cell_type": "code",
      "execution_count": null,
      "metadata": {
        "id": "qqKIMrkxS-TA"
      },
      "outputs": [],
      "source": [
        "import pandas as pd\n",
        "from sklearn.model_selection import train_test_split\n",
        "from sklearn.tree import DecisionTreeClassifier\n",
        "from sklearn.metrics import classification_report"
      ]
    },
    {
      "cell_type": "code",
      "source": [
        "#Loading or importing  wine dataset to notebook\n",
        "cols = [\"class\", \"Alcohol\", \"Malicacid\", \"Ash\", \"Alcalinity_of_ash\", \"Magnesium\", \"Total_phenols\", \"Flavanoids\", \"Nonflavanoid_phenols\", \"Proanthocyanins\", \"Color_intensity\", \"Hue\", \"0D280_0D315_of_diluted_wines\", \"Proline\" ]\n",
        "wine_data = pd.read_csv(\"wine.data\", names = cols)\n",
        "wine_data.head()"
      ],
      "metadata": {
        "id": "zLz2i6GdU1mU"
      },
      "execution_count": null,
      "outputs": []
    },
    {
      "cell_type": "code",
      "source": [
        "#split the data into training and validation sets\n",
        "wine_features = wine_data.drop(\"class\", axis=1)\n",
        "wine_labels = wine_data[\"class\"]\n",
        "wine_train_features, wine_val_features, wine_train_labels, wine_val_labels = train_test_split(wine_features, wine_labels, test_size =0.2, random_state=42)\n",
        "\n"
      ],
      "metadata": {
        "id": "am15AdECfY6j"
      },
      "execution_count": null,
      "outputs": []
    },
    {
      "cell_type": "code",
      "source": [
        "# train and evaluate the decision tree\n",
        "wine_tree = DecisionTreeClassifier(criterion=\"gini\", max_depth=3, random_state=42 )\n",
        "wine_tree.fit(wine_train_features, wine_train_labels)\n",
        "wine_val_predictions = wine_tree.predict(wine_val_features)\n",
        "wine_classification_report = classification_report(wine_val_labels, wine_val_predictions)\n",
        "print(\"Wine Decision Tree Classification Report:\")\n",
        "print(wine_classification_report)\n"
      ],
      "metadata": {
        "id": "MDOYscCmjW94"
      },
      "execution_count": null,
      "outputs": []
    },
    {
      "cell_type": "code",
      "source": [
        "#determine confused class pairs\n",
        "wine_confusion_matrix  = pd.crosstab(wine_val_labels, wine_val_predictions)\n",
        "print(\"Wine Confusion Matrix:\")\n",
        "print(wine_confusion_matrix)"
      ],
      "metadata": {
        "id": "wSzpK2jcmH9M"
      },
      "execution_count": null,
      "outputs": []
    },
    {
      "cell_type": "code",
      "source": [
        "#selecting a confused pair and identifying the corresponding leaf nodes\n",
        "confused_classes = [(1,2)]\n",
        "for class_pair in confused_classes:\n",
        "  class1, class2 = class_pair\n",
        "  misclassified_samples = wine_val_features[(wine_val_labels == class1) & (wine_val_predictions == class2)]\n",
        "  leaf_nodes = wine_tree.apply(misclassified_samples)\n",
        "  print(f\"Leaf nodes corresponding to misclassification between class {class1} and class {class2}:\")\n",
        "  #print leaf nodes\n",
        "  print(leaf_nodes)"
      ],
      "metadata": {
        "id": "5DjxdYoWmuZX"
      },
      "execution_count": null,
      "outputs": []
    },
    {
      "cell_type": "code",
      "source": [
        "# Compare decision trees with different attribute subsets\n",
        "attribute_subsets = [\n",
        "    [\"Alcohol\", \"Malicacid\", \"Ash\", \"Alcalinity_of_ash\", \"Magnesium\"],  # Subset 1\n",
        "    [\"Total_phenols\", \"Flavanoids\", \"Nonflavanoid_phenols\", \"Proanthocyanins\"],  # Subset 2\n",
        "    [\"Color_intensity\", \"Hue\", \"0D280_0D315_of_diluted_wines\", \"Proline\"]  # Subset 3\n",
        "]\n",
        "\n",
        "original_tree = DecisionTreeClassifier(criterion=\"gini\", max_depth=None, random_state=42)\n",
        "original_tree.fit(wine_train_features, wine_train_labels)\n",
        "original_val_predictions = original_tree.predict(wine_val_features)\n",
        "original_classification_report = classification_report(wine_val_labels, original_val_predictions)\n",
        "print(\"Original Decision Tree Classification Report:\")\n",
        "print(original_classification_report)\n",
        "\n",
        "for subset in attribute_subsets:\n",
        "    subset_train_features = wine_train_features[subset]\n",
        "    subset_val_features = wine_val_features[subset]\n",
        "\n",
        "    subset_tree = DecisionTreeClassifier(criterion=\"gini\", max_depth=None, random_state=42)\n",
        "    subset_tree.fit(subset_train_features, wine_train_labels)\n",
        "    subset_val_predictions = subset_tree.predict(subset_val_features)\n",
        "    subset_classification_report = classification_report(wine_val_labels, subset_val_predictions)\n",
        "\n",
        "    print(f\"Subset: {subset}\")\n",
        "    print(f\"Subset Decision Tree Classification Report:\")\n",
        "    print(subset_classification_report)"
      ],
      "metadata": {
        "id": "quZyksSuoGRS"
      },
      "execution_count": null,
      "outputs": []
    }
  ]
}